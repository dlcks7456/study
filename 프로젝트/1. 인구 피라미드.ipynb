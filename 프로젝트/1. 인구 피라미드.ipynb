{
 "cells": [
  {
   "cell_type": "markdown",
   "id": "c156a86a",
   "metadata": {},
   "source": [
    "# 1. 인구 피라미드"
   ]
  },
  {
   "cell_type": "code",
   "execution_count": 1,
   "id": "1dc1ca3c",
   "metadata": {},
   "outputs": [],
   "source": [
    "import pandas as pd\n",
    "import matplotlib.pyplot as plt\n",
    "import matplotlib\n",
    "matplotlib.rcParams['font.family'] = 'Malgun Gothic' # Windows\n",
    "matplotlib.rcParams['font.size'] = 15 # 글자 크기\n",
    "matplotlib.rcParams['axes.unicode_minus'] = False # 한글 폰트 사용 시, 마이너스 글자가 깨지는 현상을 방지"
   ]
  },
  {
   "cell_type": "code",
   "execution_count": 2,
   "id": "c641dc83",
   "metadata": {},
   "outputs": [
    {
     "name": "stderr",
     "output_type": "stream",
     "text": [
      "C:\\Users\\CHAN_LEE\\anaconda3\\lib\\site-packages\\openpyxl\\styles\\stylesheet.py:226: UserWarning: Workbook contains no default style, apply openpyxl's default\n",
      "  warn(\"Workbook contains no default style, apply openpyxl's default\")\n"
     ]
    },
    {
     "data": {
      "text/html": [
       "<div>\n",
       "<style scoped>\n",
       "    .dataframe tbody tr th:only-of-type {\n",
       "        vertical-align: middle;\n",
       "    }\n",
       "\n",
       "    .dataframe tbody tr th {\n",
       "        vertical-align: top;\n",
       "    }\n",
       "\n",
       "    .dataframe thead th {\n",
       "        text-align: right;\n",
       "    }\n",
       "</style>\n",
       "<table border=\"1\" class=\"dataframe\">\n",
       "  <thead>\n",
       "    <tr style=\"text-align: right;\">\n",
       "      <th></th>\n",
       "      <th>0~4세</th>\n",
       "      <th>5~9세</th>\n",
       "      <th>10~14세</th>\n",
       "      <th>15~19세</th>\n",
       "      <th>20~24세</th>\n",
       "      <th>25~29세</th>\n",
       "      <th>30~34세</th>\n",
       "      <th>35~39세</th>\n",
       "      <th>40~44세</th>\n",
       "      <th>45~49세</th>\n",
       "      <th>...</th>\n",
       "      <th>55~59세</th>\n",
       "      <th>60~64세</th>\n",
       "      <th>65~69세</th>\n",
       "      <th>70~74세</th>\n",
       "      <th>75~79세</th>\n",
       "      <th>80~84세</th>\n",
       "      <th>85~89세</th>\n",
       "      <th>90~94세</th>\n",
       "      <th>95~99세</th>\n",
       "      <th>100세 이상</th>\n",
       "    </tr>\n",
       "    <tr>\n",
       "      <th>행정기관</th>\n",
       "      <th></th>\n",
       "      <th></th>\n",
       "      <th></th>\n",
       "      <th></th>\n",
       "      <th></th>\n",
       "      <th></th>\n",
       "      <th></th>\n",
       "      <th></th>\n",
       "      <th></th>\n",
       "      <th></th>\n",
       "      <th></th>\n",
       "      <th></th>\n",
       "      <th></th>\n",
       "      <th></th>\n",
       "      <th></th>\n",
       "      <th></th>\n",
       "      <th></th>\n",
       "      <th></th>\n",
       "      <th></th>\n",
       "      <th></th>\n",
       "      <th></th>\n",
       "    </tr>\n",
       "  </thead>\n",
       "  <tbody>\n",
       "    <tr>\n",
       "      <th>전국</th>\n",
       "      <td>1,196,298</td>\n",
       "      <td>1,215,642</td>\n",
       "      <td>1,627,682</td>\n",
       "      <td>1,878,394</td>\n",
       "      <td>1,692,322</td>\n",
       "      <td>1,798,832</td>\n",
       "      <td>2,058,717</td>\n",
       "      <td>2,151,718</td>\n",
       "      <td>2,346,348</td>\n",
       "      <td>2,171,235</td>\n",
       "      <td>...</td>\n",
       "      <td>1,608,133</td>\n",
       "      <td>1,139,681</td>\n",
       "      <td>885,678</td>\n",
       "      <td>719,811</td>\n",
       "      <td>437,707</td>\n",
       "      <td>194,827</td>\n",
       "      <td>77,608</td>\n",
       "      <td>22,964</td>\n",
       "      <td>4,766</td>\n",
       "      <td>2,691</td>\n",
       "    </tr>\n",
       "    <tr>\n",
       "      <th>서울특별시</th>\n",
       "      <td>216,843</td>\n",
       "      <td>212,597</td>\n",
       "      <td>282,790</td>\n",
       "      <td>344,798</td>\n",
       "      <td>337,696</td>\n",
       "      <td>421,899</td>\n",
       "      <td>475,109</td>\n",
       "      <td>452,897</td>\n",
       "      <td>463,064</td>\n",
       "      <td>412,326</td>\n",
       "      <td>...</td>\n",
       "      <td>334,448</td>\n",
       "      <td>240,777</td>\n",
       "      <td>190,839</td>\n",
       "      <td>139,263</td>\n",
       "      <td>74,020</td>\n",
       "      <td>32,185</td>\n",
       "      <td>13,282</td>\n",
       "      <td>4,663</td>\n",
       "      <td>1,203</td>\n",
       "      <td>907</td>\n",
       "    </tr>\n",
       "    <tr>\n",
       "      <th>부산광역시</th>\n",
       "      <td>67,475</td>\n",
       "      <td>69,137</td>\n",
       "      <td>99,796</td>\n",
       "      <td>128,970</td>\n",
       "      <td>123,263</td>\n",
       "      <td>126,669</td>\n",
       "      <td>138,762</td>\n",
       "      <td>134,439</td>\n",
       "      <td>148,476</td>\n",
       "      <td>145,068</td>\n",
       "      <td>...</td>\n",
       "      <td>137,184</td>\n",
       "      <td>100,614</td>\n",
       "      <td>73,804</td>\n",
       "      <td>55,002</td>\n",
       "      <td>29,768</td>\n",
       "      <td>12,274</td>\n",
       "      <td>4,325</td>\n",
       "      <td>1,141</td>\n",
       "      <td>244</td>\n",
       "      <td>230</td>\n",
       "    </tr>\n",
       "  </tbody>\n",
       "</table>\n",
       "<p>3 rows × 21 columns</p>\n",
       "</div>"
      ],
      "text/plain": [
       "              0~4세       5~9세     10~14세     15~19세     20~24세     25~29세  \\\n",
       "행정기관                                                                        \n",
       "전국       1,196,298  1,215,642  1,627,682  1,878,394  1,692,322  1,798,832   \n",
       "서울특별시      216,843    212,597    282,790    344,798    337,696    421,899   \n",
       "부산광역시       67,475     69,137     99,796    128,970    123,263    126,669   \n",
       "\n",
       "            30~34세     35~39세     40~44세     45~49세  ...     55~59세  \\\n",
       "행정기관                                                 ...              \n",
       "전국       2,058,717  2,151,718  2,346,348  2,171,235  ...  1,608,133   \n",
       "서울특별시      475,109    452,897    463,064    412,326  ...    334,448   \n",
       "부산광역시      138,762    134,439    148,476    145,068  ...    137,184   \n",
       "\n",
       "            60~64세   65~69세   70~74세   75~79세   80~84세  85~89세  90~94세 95~99세  \\\n",
       "행정기관                                                                            \n",
       "전국       1,139,681  885,678  719,811  437,707  194,827  77,608  22,964  4,766   \n",
       "서울특별시      240,777  190,839  139,263   74,020   32,185  13,282   4,663  1,203   \n",
       "부산광역시      100,614   73,804   55,002   29,768   12,274   4,325   1,141    244   \n",
       "\n",
       "        100세 이상  \n",
       "행정기관             \n",
       "전국        2,691  \n",
       "서울특별시       907  \n",
       "부산광역시       230  \n",
       "\n",
       "[3 rows x 21 columns]"
      ]
     },
     "execution_count": 2,
     "metadata": {},
     "output_type": "execute_result"
    }
   ],
   "source": [
    "file_name = '201201_201201_연령별인구현황_월간.xlsx'\n",
    "yeas = '2012'\n",
    "df_m = pd.read_excel(file_name,\n",
    "                     skiprows=3,\n",
    "                     index_col='행정기관',\n",
    "                     usecols='B, E:Y')\n",
    "df_m.head(3)"
   ]
  },
  {
   "cell_type": "code",
   "execution_count": 3,
   "id": "5e08c36d",
   "metadata": {},
   "outputs": [],
   "source": [
    "df_m.iloc[0] = df_m.iloc[0].str.replace(',','').astype(int) # 1,1,95,951 -> 1195951 (정수형)"
   ]
  },
  {
   "cell_type": "code",
   "execution_count": 4,
   "id": "431b21c9",
   "metadata": {},
   "outputs": [
    {
     "data": {
      "text/plain": [
       "0~4세       1196298\n",
       "5~9세       1215642\n",
       "10~14세     1627682\n",
       "15~19세     1878394\n",
       "20~24세     1692322\n",
       "25~29세     1798832\n",
       "30~34세     2058717\n",
       "35~39세     2151718\n",
       "40~44세     2346348\n",
       "45~49세     2171235\n",
       "50~54세     2182972\n",
       "55~59세     1608133\n",
       "60~64세     1139681\n",
       "65~69세      885678\n",
       "70~74세      719811\n",
       "75~79세      437707\n",
       "80~84세      194827\n",
       "85~89세       77608\n",
       "90~94세       22964\n",
       "95~99세        4766\n",
       "100세 이상       2691\n",
       "Name: 전국  , dtype: object"
      ]
     },
     "execution_count": 4,
     "metadata": {},
     "output_type": "execute_result"
    }
   ],
   "source": [
    "df_m.iloc[0]"
   ]
  },
  {
   "cell_type": "code",
   "execution_count": 5,
   "id": "240571af",
   "metadata": {},
   "outputs": [
    {
     "name": "stderr",
     "output_type": "stream",
     "text": [
      "C:\\Users\\CHAN_LEE\\anaconda3\\lib\\site-packages\\openpyxl\\styles\\stylesheet.py:226: UserWarning: Workbook contains no default style, apply openpyxl's default\n",
      "  warn(\"Workbook contains no default style, apply openpyxl's default\")\n"
     ]
    },
    {
     "data": {
      "text/html": [
       "<div>\n",
       "<style scoped>\n",
       "    .dataframe tbody tr th:only-of-type {\n",
       "        vertical-align: middle;\n",
       "    }\n",
       "\n",
       "    .dataframe tbody tr th {\n",
       "        vertical-align: top;\n",
       "    }\n",
       "\n",
       "    .dataframe thead th {\n",
       "        text-align: right;\n",
       "    }\n",
       "</style>\n",
       "<table border=\"1\" class=\"dataframe\">\n",
       "  <thead>\n",
       "    <tr style=\"text-align: right;\">\n",
       "      <th></th>\n",
       "      <th>0~4세.1</th>\n",
       "      <th>5~9세.1</th>\n",
       "      <th>10~14세.1</th>\n",
       "      <th>15~19세.1</th>\n",
       "      <th>20~24세.1</th>\n",
       "      <th>25~29세.1</th>\n",
       "      <th>30~34세.1</th>\n",
       "      <th>35~39세.1</th>\n",
       "      <th>40~44세.1</th>\n",
       "      <th>45~49세.1</th>\n",
       "      <th>...</th>\n",
       "      <th>55~59세.1</th>\n",
       "      <th>60~64세.1</th>\n",
       "      <th>65~69세.1</th>\n",
       "      <th>70~74세.1</th>\n",
       "      <th>75~79세.1</th>\n",
       "      <th>80~84세.1</th>\n",
       "      <th>85~89세.1</th>\n",
       "      <th>90~94세.1</th>\n",
       "      <th>95~99세.1</th>\n",
       "      <th>100세 이상.1</th>\n",
       "    </tr>\n",
       "    <tr>\n",
       "      <th>행정기관</th>\n",
       "      <th></th>\n",
       "      <th></th>\n",
       "      <th></th>\n",
       "      <th></th>\n",
       "      <th></th>\n",
       "      <th></th>\n",
       "      <th></th>\n",
       "      <th></th>\n",
       "      <th></th>\n",
       "      <th></th>\n",
       "      <th></th>\n",
       "      <th></th>\n",
       "      <th></th>\n",
       "      <th></th>\n",
       "      <th></th>\n",
       "      <th></th>\n",
       "      <th></th>\n",
       "      <th></th>\n",
       "      <th></th>\n",
       "      <th></th>\n",
       "      <th></th>\n",
       "    </tr>\n",
       "  </thead>\n",
       "  <tbody>\n",
       "    <tr>\n",
       "      <th>전국</th>\n",
       "      <td>1,128,024</td>\n",
       "      <td>1,126,625</td>\n",
       "      <td>1,492,152</td>\n",
       "      <td>1,659,937</td>\n",
       "      <td>1,525,305</td>\n",
       "      <td>1,691,682</td>\n",
       "      <td>1,975,775</td>\n",
       "      <td>2,068,220</td>\n",
       "      <td>2,277,052</td>\n",
       "      <td>2,051,092</td>\n",
       "      <td>...</td>\n",
       "      <td>1,624,628</td>\n",
       "      <td>1,189,414</td>\n",
       "      <td>1,009,513</td>\n",
       "      <td>933,302</td>\n",
       "      <td>700,197</td>\n",
       "      <td>429,811</td>\n",
       "      <td>208,227</td>\n",
       "      <td>73,481</td>\n",
       "      <td>19,130</td>\n",
       "      <td>9,067</td>\n",
       "    </tr>\n",
       "    <tr>\n",
       "      <th>서울특별시</th>\n",
       "      <td>205,591</td>\n",
       "      <td>199,837</td>\n",
       "      <td>260,917</td>\n",
       "      <td>309,366</td>\n",
       "      <td>333,116</td>\n",
       "      <td>431,682</td>\n",
       "      <td>466,958</td>\n",
       "      <td>437,616</td>\n",
       "      <td>460,637</td>\n",
       "      <td>408,707</td>\n",
       "      <td>...</td>\n",
       "      <td>361,120</td>\n",
       "      <td>258,846</td>\n",
       "      <td>205,704</td>\n",
       "      <td>159,556</td>\n",
       "      <td>108,150</td>\n",
       "      <td>67,410</td>\n",
       "      <td>34,724</td>\n",
       "      <td>13,038</td>\n",
       "      <td>3,930</td>\n",
       "      <td>2,718</td>\n",
       "    </tr>\n",
       "    <tr>\n",
       "      <th>부산광역시</th>\n",
       "      <td>64,052</td>\n",
       "      <td>64,215</td>\n",
       "      <td>89,346</td>\n",
       "      <td>109,301</td>\n",
       "      <td>109,765</td>\n",
       "      <td>118,838</td>\n",
       "      <td>132,634</td>\n",
       "      <td>130,434</td>\n",
       "      <td>152,203</td>\n",
       "      <td>148,289</td>\n",
       "      <td>...</td>\n",
       "      <td>143,244</td>\n",
       "      <td>105,702</td>\n",
       "      <td>79,870</td>\n",
       "      <td>68,449</td>\n",
       "      <td>47,084</td>\n",
       "      <td>28,764</td>\n",
       "      <td>13,212</td>\n",
       "      <td>4,138</td>\n",
       "      <td>1,169</td>\n",
       "      <td>848</td>\n",
       "    </tr>\n",
       "  </tbody>\n",
       "</table>\n",
       "<p>3 rows × 21 columns</p>\n",
       "</div>"
      ],
      "text/plain": [
       "            0~4세.1     5~9세.1   10~14세.1   15~19세.1   20~24세.1   25~29세.1  \\\n",
       "행정기관                                                                        \n",
       "전국       1,128,024  1,126,625  1,492,152  1,659,937  1,525,305  1,691,682   \n",
       "서울특별시      205,591    199,837    260,917    309,366    333,116    431,682   \n",
       "부산광역시       64,052     64,215     89,346    109,301    109,765    118,838   \n",
       "\n",
       "          30~34세.1   35~39세.1   40~44세.1   45~49세.1  ...   55~59세.1  \\\n",
       "행정기관                                                 ...              \n",
       "전국       1,975,775  2,068,220  2,277,052  2,051,092  ...  1,624,628   \n",
       "서울특별시      466,958    437,616    460,637    408,707  ...    361,120   \n",
       "부산광역시      132,634    130,434    152,203    148,289  ...    143,244   \n",
       "\n",
       "          60~64세.1   65~69세.1 70~74세.1 75~79세.1 80~84세.1 85~89세.1 90~94세.1  \\\n",
       "행정기관                                                                         \n",
       "전국       1,189,414  1,009,513  933,302  700,197  429,811  208,227   73,481   \n",
       "서울특별시      258,846    205,704  159,556  108,150   67,410   34,724   13,038   \n",
       "부산광역시      105,702     79,870   68,449   47,084   28,764   13,212    4,138   \n",
       "\n",
       "        95~99세.1 100세 이상.1  \n",
       "행정기관                        \n",
       "전국        19,130     9,067  \n",
       "서울특별시      3,930     2,718  \n",
       "부산광역시      1,169       848  \n",
       "\n",
       "[3 rows x 21 columns]"
      ]
     },
     "execution_count": 5,
     "metadata": {},
     "output_type": "execute_result"
    }
   ],
   "source": [
    "df_w = pd.read_excel(file_name,\n",
    "                     skiprows=3,\n",
    "                     index_col='행정기관',\n",
    "                     usecols='B, AB:AV')\n",
    "df_w.head(3)"
   ]
  },
  {
   "cell_type": "code",
   "execution_count": 6,
   "id": "342df764",
   "metadata": {},
   "outputs": [
    {
     "data": {
      "text/plain": [
       "Index(['0~4세.1', '5~9세.1', '10~14세.1', '15~19세.1', '20~24세.1', '25~29세.1',\n",
       "       '30~34세.1', '35~39세.1', '40~44세.1', '45~49세.1', '50~54세.1', '55~59세.1',\n",
       "       '60~64세.1', '65~69세.1', '70~74세.1', '75~79세.1', '80~84세.1', '85~89세.1',\n",
       "       '90~94세.1', '95~99세.1', '100세 이상.1'],\n",
       "      dtype='object')"
      ]
     },
     "execution_count": 6,
     "metadata": {},
     "output_type": "execute_result"
    }
   ],
   "source": [
    "df_w.columns"
   ]
  },
  {
   "cell_type": "code",
   "execution_count": 7,
   "id": "9a13dd2c",
   "metadata": {},
   "outputs": [
    {
     "data": {
      "text/plain": [
       "Index(['0~4세', '5~9세', '10~14세', '15~19세', '20~24세', '25~29세', '30~34세',\n",
       "       '35~39세', '40~44세', '45~49세', '50~54세', '55~59세', '60~64세', '65~69세',\n",
       "       '70~74세', '75~79세', '80~84세', '85~89세', '90~94세', '95~99세', '100세 이상'],\n",
       "      dtype='object')"
      ]
     },
     "execution_count": 7,
     "metadata": {},
     "output_type": "execute_result"
    }
   ],
   "source": [
    "df_w.columns = df_m.columns # 컬럼명 통일\n",
    "df_w.columns"
   ]
  },
  {
   "cell_type": "code",
   "execution_count": 8,
   "id": "e6940d42",
   "metadata": {},
   "outputs": [
    {
     "data": {
      "text/plain": [
       "0~4세       1128024\n",
       "5~9세       1126625\n",
       "10~14세     1492152\n",
       "15~19세     1659937\n",
       "20~24세     1525305\n",
       "25~29세     1691682\n",
       "30~34세     1975775\n",
       "35~39세     2068220\n",
       "40~44세     2277052\n",
       "45~49세     2051092\n",
       "50~54세     2144177\n",
       "55~59세     1624628\n",
       "60~64세     1189414\n",
       "65~69세     1009513\n",
       "70~74세      933302\n",
       "75~79세      700197\n",
       "80~84세      429811\n",
       "85~89세      208227\n",
       "90~94세       73481\n",
       "95~99세       19130\n",
       "100세 이상       9067\n",
       "Name: 전국  , dtype: object"
      ]
     },
     "execution_count": 8,
     "metadata": {},
     "output_type": "execute_result"
    }
   ],
   "source": [
    "df_w.iloc[0] = df_w.iloc[0].str.replace(',','').astype(int) # 1,1,95,951 -> 1195951 (정수형)\n",
    "df_w.iloc[0]"
   ]
  },
  {
   "cell_type": "markdown",
   "id": "cb46997e",
   "metadata": {},
   "source": [
    "## 데이터 시각화"
   ]
  },
  {
   "cell_type": "code",
   "execution_count": 9,
   "id": "e0050af3",
   "metadata": {
    "scrolled": false
   },
   "outputs": [
    {
     "data": {
      "image/png": "[encoded data removed]",
      "text/plain": [
       "<Figure size 720x504 with 1 Axes>"
      ]
     },
     "metadata": {
      "needs_background": "light"
     },
     "output_type": "display_data"
    }
   ],
   "source": [
    "plt.figure(figsize=(10, 7))\n",
    "plt.barh(df_m.columns, -df_m.iloc[0] // 1000 ) # 단위 ; 천명\n",
    "plt.barh(df_w.columns, df_w.iloc[0] // 1000 )\n",
    "plt.title('%s 대한민국 인구 피라미드'%(yeas))\n",
    "plt.savefig('%s_인구피라미드.png'%(yeas), dpi=100)\n",
    "plt.show()"
   ]
  }
 ],
 "metadata": {
  "kernelspec": {
   "display_name": "Python 3 (ipykernel)",
   "language": "python",
   "name": "python3"
  },
  "language_info": {
   "codemirror_mode": {
    "name": "ipython",
    "version": 3
   },
   "file_extension": ".py",
   "mimetype": "text/x-python",
   "name": "python",
   "nbconvert_exporter": "python",
   "pygments_lexer": "ipython3",
   "version": "3.9.7"
  }
 },
 "nbformat": 4,
 "nbformat_minor": 5
}
